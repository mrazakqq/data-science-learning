{
  "cells": [
    {
      "cell_type": "markdown",
      "source": [
        "# Python basics"
      ],
      "metadata": {},
      "id": "da091609"
    },
    {
      "cell_type": "code",
      "source": [
        "#integer\n",
        "a=10\n",
        "print(10)\n",
        "print(type(a))"
      ],
      "outputs": [
        {
          "output_type": "stream",
          "name": "stdout",
          "text": [
            "10\n",
            "<class 'int'>\n"
          ]
        }
      ],
      "execution_count": 1,
      "metadata": {},
      "id": "f68c181c"
    },
    {
      "cell_type": "code",
      "source": [
        "#Float\n",
        "a=10.20\n",
        "print(a)\n",
        "print(type(a))"
      ],
      "outputs": [
        {
          "output_type": "stream",
          "name": "stdout",
          "text": [
            "10.2\n",
            "<class 'float'>\n"
          ]
        }
      ],
      "execution_count": 2,
      "metadata": {},
      "id": "67ff1b13"
    },
    {
      "cell_type": "code",
      "source": [
        "#bool\n",
        "a=True\n",
        "b=False\n",
        "print(a)\n",
        "print(type(a))"
      ],
      "outputs": [
        {
          "output_type": "stream",
          "name": "stdout",
          "text": [
            "True\n",
            "<class 'bool'>\n"
          ]
        }
      ],
      "execution_count": 3,
      "metadata": {},
      "id": "e9da1b51"
    },
    {
      "cell_type": "code",
      "source": [
        "#String \n",
        "a=\"Hello world\"\n",
        "print(a)\n",
        "print(type(a))"
      ],
      "outputs": [
        {
          "output_type": "stream",
          "name": "stdout",
          "text": [
            "Hello world\n",
            "<class 'str'>\n"
          ]
        }
      ],
      "execution_count": 4,
      "metadata": {},
      "id": "9ee28a9a"
    },
    {
      "cell_type": "code",
      "source": [
        "#list\n",
        "list=[1,2,44,5,3,5]\n",
        "print(list)\n",
        "type(list)"
      ],
      "outputs": [
        {
          "output_type": "stream",
          "name": "stdout",
          "text": [
            "[1, 2, 44, 5, 3, 5]\n"
          ]
        },
        {
          "output_type": "execute_result",
          "execution_count": 5,
          "data": {
            "text/plain": "list"
          },
          "metadata": {}
        }
      ],
      "execution_count": 5,
      "metadata": {},
      "id": "d83da282"
    },
    {
      "cell_type": "code",
      "source": [
        "#dictionary\n",
        "a={\"A\":2,\"B\":4,\"C\":5,\"D\":8,\"E\":10}\n",
        "print(a)\n",
        "print(type(a))"
      ],
      "outputs": [
        {
          "output_type": "stream",
          "name": "stdout",
          "text": [
            "{'A': 2, 'B': 4, 'C': 5, 'D': 8, 'E': 10}\n",
            "<class 'dict'>\n"
          ]
        }
      ],
      "execution_count": 6,
      "metadata": {},
      "id": "c31f3d05"
    },
    {
      "cell_type": "code",
      "source": [
        "#Tuples\n",
        "a=(1,2,5,3)\n",
        "print(a)\n",
        "type(a)"
      ],
      "outputs": [
        {
          "output_type": "stream",
          "name": "stdout",
          "text": [
            "(1, 2, 5, 3)\n"
          ]
        },
        {
          "output_type": "execute_result",
          "execution_count": 7,
          "data": {
            "text/plain": "tuple"
          },
          "metadata": {}
        }
      ],
      "execution_count": 7,
      "metadata": {},
      "id": "96a13b28"
    },
    {
      "cell_type": "code",
      "source": [
        "#Decision making\n",
        "#if statement\n",
        "a=10\n",
        "b=20\n",
        "if b>a:\n",
        "    print(\"True\")"
      ],
      "outputs": [
        {
          "output_type": "stream",
          "name": "stdout",
          "text": [
            "True\n"
          ]
        }
      ],
      "execution_count": 8,
      "metadata": {},
      "id": "ab3393e6"
    },
    {
      "cell_type": "code",
      "source": [
        "#if else\n",
        "\n",
        "a=20\n",
        "b=10\n",
        "if a>b:\n",
        "    print(\"A is big\")\n",
        "else:\n",
        "    print(\"B is big\")\n",
        "    "
      ],
      "outputs": [
        {
          "output_type": "stream",
          "name": "stdout",
          "text": [
            "A is big\n"
          ]
        }
      ],
      "execution_count": 9,
      "metadata": {},
      "id": "535efab6"
    },
    {
      "cell_type": "code",
      "source": [
        "#elif\n",
        "\n",
        "a=20\n",
        "b=30\n",
        "c=40\n",
        "if a>b:\n",
        "    print(\"B is big\")\n",
        "elif c>b and c>a:\n",
        "    print(\"C is big\")\n",
        "else:\n",
        "    print(\"A is big\")"
      ],
      "outputs": [
        {
          "output_type": "stream",
          "name": "stdout",
          "text": [
            "C is big\n"
          ]
        }
      ],
      "execution_count": 10,
      "metadata": {},
      "id": "a2daf9c0"
    },
    {
      "cell_type": "code",
      "source": [
        "#Loops \n",
        "#While loop \n",
        "count = 0\n",
        "while (count < 9):\n",
        "    print('The count is:', count)\n",
        "    count= count + 1\n",
        "\n",
        "print(\"Good bye!\")\n",
        "\n"
      ],
      "outputs": [
        {
          "output_type": "stream",
          "name": "stdout",
          "text": [
            "The count is: 0\n",
            "The count is: 1\n",
            "The count is: 2\n",
            "The count is: 3\n",
            "The count is: 4\n",
            "The count is: 5\n",
            "The count is: 6\n",
            "The count is: 7\n",
            "The count is: 8\n",
            "Good bye!\n"
          ]
        }
      ],
      "execution_count": 11,
      "metadata": {},
      "id": "00a44b1a"
    },
    {
      "cell_type": "code",
      "source": [
        "#for loop\n",
        "for letter in 'Python':     # First Example\n",
        "    print('Current Letter :', letter)\n",
        "\n",
        "fruits = ['banana', 'apple',  'mango']\n",
        "for fruit in fruits:        # Second Example\n",
        "    print('Current fruit :', fruit)\n",
        "\n",
        "print(\"Good bye!\")"
      ],
      "outputs": [
        {
          "output_type": "stream",
          "name": "stdout",
          "text": [
            "Current Letter : P\n",
            "Current Letter : y\n",
            "Current Letter : t\n",
            "Current Letter : h\n",
            "Current Letter : o\n",
            "Current Letter : n\n",
            "Current fruit : banana\n",
            "Current fruit : apple\n",
            "Current fruit : mango\n",
            "Good bye!\n"
          ]
        }
      ],
      "execution_count": 12,
      "metadata": {},
      "id": "c16c6916"
    },
    {
      "cell_type": "code",
      "source": [
        "#Accessing Values in Strings\n",
        "var1 = 'Hello World!'\n",
        "var2 = \"Python Programming\"\n",
        "\n",
        "print(\"var1[0]: \", var1[0])\n",
        "print (\"var2[1:5]: \", var2[1:5])\n"
      ],
      "outputs": [
        {
          "output_type": "stream",
          "name": "stdout",
          "text": [
            "var1[0]:  H\n",
            "var2[1:5]:  ytho\n"
          ]
        }
      ],
      "execution_count": 13,
      "metadata": {},
      "id": "f865c979"
    },
    {
      "cell_type": "code",
      "source": [
        "#Update a string \n",
        "var1 = 'Hello World!'\n",
        "print(\"Updated String :- \", var1[:6] + 'Python')"
      ],
      "outputs": [
        {
          "output_type": "stream",
          "name": "stdout",
          "text": [
            "Updated String :-  Hello Python\n"
          ]
        }
      ],
      "execution_count": 14,
      "metadata": {},
      "id": "91e5a6fa"
    },
    {
      "cell_type": "code",
      "source": [
        "#Accessing Values in Lists\n",
        "list1 = ['physics', 'chemistry', 1997, 2000];\n",
        "list2 = [1, 2, 3, 4, 5, 6, 7 ];\n",
        "print(\"list1[0]: \", list1[0])\n",
        "print (\"list2[1:5]: \", list2[1:5])"
      ],
      "outputs": [
        {
          "output_type": "stream",
          "name": "stdout",
          "text": [
            "list1[0]:  physics\n",
            "list2[1:5]:  [2, 3, 4, 5]\n"
          ]
        }
      ],
      "execution_count": 15,
      "metadata": {},
      "id": "8704a278"
    },
    {
      "cell_type": "code",
      "source": [
        "#Updating Lists\n",
        "list = ['physics', 'chemistry', 1997, 2000];\n",
        "print(\"Value available at index 2 : \")\n",
        "print(list[2])\n",
        "list[2] = 2001;\n",
        "print(\"New value available at index 2 : \")\n",
        "print(list[2])"
      ],
      "outputs": [
        {
          "output_type": "stream",
          "name": "stdout",
          "text": [
            "Value available at index 2 : \n",
            "1997\n",
            "New value available at index 2 : \n",
            "2001\n"
          ]
        }
      ],
      "execution_count": 17,
      "metadata": {},
      "id": "6880ee52"
    },
    {
      "cell_type": "code",
      "source": [
        "#Delete List Elements\n",
        "list1 = ['physics', 'chemistry', 1997, 2000];\n",
        "print(list1)\n",
        "del list1[2];\n",
        "print (\"After deleting value at index 2 : \")\n",
        "print (list1)"
      ],
      "outputs": [
        {
          "output_type": "stream",
          "name": "stdout",
          "text": [
            "['physics', 'chemistry', 1997, 2000]\n",
            "After deleting value at index 2 : \n",
            "['physics', 'chemistry', 2000]\n"
          ]
        }
      ],
      "execution_count": 19,
      "metadata": {},
      "id": "a9d39cdf"
    },
    {
      "cell_type": "code",
      "source": [
        "#Accessing value of tuple \n",
        "tup1 = ('physics', 'chemistry', 1997, 2000)\n",
        "tup2 = (1, 2, 3, 4, 5, 6, 7 )\n",
        "print (\"tup1[0]: \", tup1[0])\n",
        "print (\"tup2[1:5]: \", tup2[1:5])"
      ],
      "outputs": [
        {
          "output_type": "stream",
          "name": "stdout",
          "text": [
            "tup1[0]:  physics\n",
            "tup2[1:5]:  (2, 3, 4, 5)\n"
          ]
        }
      ],
      "execution_count": 22,
      "metadata": {},
      "id": "7e174fb6"
    },
    {
      "cell_type": "code",
      "source": [
        "#Updating Tuples\n",
        "\n",
        "tup1 = (12, 34.56);\n",
        "tup2 = ('abc', 'xyz')\n",
        "\n",
        "\n",
        "tup3 = tup1 + tup2\n",
        "print(tup3)\n"
      ],
      "outputs": [
        {
          "output_type": "stream",
          "name": "stdout",
          "text": [
            "(12, 34.56, 'abc', 'xyz')\n"
          ]
        }
      ],
      "execution_count": 24,
      "metadata": {},
      "id": "6a96b75a"
    },
    {
      "cell_type": "code",
      "source": [
        "#Deleting a tuple\n",
        "\n",
        "tup = ('physics', 'chemistry', 1997, 2000)\n",
        "print(tup)\n",
        "del tup;\n",
        "print(\"After deleting tup : \")\n",
        "print(tup)"
      ],
      "outputs": [
        {
          "output_type": "stream",
          "name": "stdout",
          "text": [
            "('physics', 'chemistry', 1997, 2000)\n",
            "After deleting tup : \n"
          ]
        },
        {
          "output_type": "error",
          "ename": "NameError",
          "evalue": "name 'tup' is not defined",
          "traceback": [
            "\u001b[1;31m---------------------------------------------------------------------------\u001b[0m",
            "\u001b[1;31mNameError\u001b[0m                                 Traceback (most recent call last)",
            "Input \u001b[1;32mIn [26]\u001b[0m, in \u001b[0;36m<cell line: 7>\u001b[1;34m()\u001b[0m\n\u001b[0;32m      5\u001b[0m \u001b[38;5;28;01mdel\u001b[39;00m tup;\n\u001b[0;32m      6\u001b[0m \u001b[38;5;28mprint\u001b[39m(\u001b[38;5;124m\"\u001b[39m\u001b[38;5;124mAfter deleting tup : \u001b[39m\u001b[38;5;124m\"\u001b[39m)\n\u001b[1;32m----> 7\u001b[0m \u001b[38;5;28mprint\u001b[39m(\u001b[43mtup\u001b[49m)\n",
            "\u001b[1;31mNameError\u001b[0m: name 'tup' is not defined"
          ]
        }
      ],
      "execution_count": 26,
      "metadata": {},
      "id": "117bdcfe"
    },
    {
      "cell_type": "code",
      "source": [
        "#Accessing Values in Dictionary\n",
        "\n",
        "dict = {'Name': 'Zara', 'Age': 7, 'Class': 'First'}\n",
        "print(\"dict['Name']: \", dict['Name'])\n",
        "print (\"dict['Age']: \", dict['Age'])\n"
      ],
      "outputs": [
        {
          "output_type": "stream",
          "name": "stdout",
          "text": [
            "dict['Name']:  Zara\n",
            "dict['Age']:  7\n"
          ]
        }
      ],
      "execution_count": 27,
      "metadata": {},
      "id": "5435da77"
    },
    {
      "cell_type": "code",
      "source": [
        "#Updating Dictionary\n",
        "dict = {'Name': 'Zara', 'Age': 7, 'Class': 'First'}\n",
        "dict['Age'] = 8; # update existing entry\n",
        "dict['School'] = \"DPS School\" # Add new entry\n",
        "\n",
        "print(\"dict['Age']: \", dict['Age'])\n",
        "print(\"dict['School']: \", dict['School'])"
      ],
      "outputs": [
        {
          "output_type": "stream",
          "name": "stdout",
          "text": [
            "dict['Age']:  8\n",
            "dict['School']:  DPS School\n"
          ]
        }
      ],
      "execution_count": 28,
      "metadata": {},
      "id": "b849be80"
    },
    {
      "cell_type": "code",
      "source": [
        "#Deleting a dictionary\n",
        "dict = {'Name': 'Zara', 'Age': 7, 'Class': 'First'}\n",
        "del dict['Name'] # remove entry with key 'Name'\n",
        "dict.clear()     # remove all entries in dict\n",
        "del dict       # delete entire dictionary\n",
        "\n",
        "print(\"dict['Age']: \", dict['Age'])\n",
        "print (\"dict['School']: \", dict['School'])"
      ],
      "outputs": [
        {
          "output_type": "stream",
          "name": "stdout",
          "text": [
            "dict['Age']:  dict['Age']\n",
            "dict['School']:  dict['School']\n"
          ]
        }
      ],
      "execution_count": 30,
      "metadata": {},
      "id": "0e22e4cc"
    },
    {
      "cell_type": "code",
      "source": [
        "#Functions\n",
        "\n",
        "def printme():\n",
        "    return \"Hello world!\"\n",
        "#calling the function\n",
        "printme()"
      ],
      "outputs": [
        {
          "output_type": "execute_result",
          "execution_count": 35,
          "data": {
            "text/plain": "'Hello world!'"
          },
          "metadata": {}
        }
      ],
      "execution_count": 35,
      "metadata": {},
      "id": "8c9e536c"
    },
    {
      "cell_type": "code",
      "source": [
        "#Function with double argument\n",
        "def add(a,b):\n",
        "    return a+b\n",
        "add(2,4)"
      ],
      "outputs": [
        {
          "output_type": "execute_result",
          "execution_count": 36,
          "data": {
            "text/plain": "6"
          },
          "metadata": {}
        }
      ],
      "execution_count": 36,
      "metadata": {},
      "id": "1304184c"
    },
    {
      "cell_type": "code",
      "source": [
        "# Function with multiple arguments\n",
        "def printinfo( name, age ):\n",
        "    print(\"Name: \", name)\n",
        "    print(\"Age \", age)\n",
        "\n",
        "# Now you can call printinfo function\n",
        "printinfo( age=50, name=\"miki\" )"
      ],
      "outputs": [
        {
          "output_type": "stream",
          "name": "stdout",
          "text": [
            "Name:  miki\n",
            "Age  50\n"
          ]
        }
      ],
      "execution_count": 34,
      "metadata": {},
      "id": "2fd233f2"
    },
    {
      "cell_type": "markdown",
      "source": [
        "# Python Advance"
      ],
      "metadata": {},
      "id": "7722afde"
    },
    {
      "cell_type": "code",
      "source": [
        "#Lambda functions\n",
        "\n",
        "x = lambda a : a + 10\n",
        "print(x(5))"
      ],
      "outputs": [
        {
          "output_type": "stream",
          "name": "stdout",
          "text": [
            "15\n"
          ]
        }
      ],
      "execution_count": 46,
      "metadata": {},
      "id": "26d8a6f9"
    },
    {
      "cell_type": "code",
      "source": [
        "#Lambda function using multiple arguments\n",
        "x = lambda a, b : a * b\n",
        "print(x(5, 6))"
      ],
      "outputs": [
        {
          "output_type": "stream",
          "name": "stdout",
          "text": [
            "30\n"
          ]
        }
      ],
      "execution_count": 48,
      "metadata": {},
      "id": "3d82d6e0"
    },
    {
      "cell_type": "code",
      "source": [
        "x = lambda a, b, c : a + b + c\n",
        "print(x(5, 6, 2))"
      ],
      "outputs": [
        {
          "output_type": "stream",
          "name": "stdout",
          "text": [
            "13\n"
          ]
        }
      ],
      "execution_count": 49,
      "metadata": {},
      "id": "572b4a38"
    },
    {
      "cell_type": "code",
      "source": [
        "#Creating a class named MyClass, with a property named x\n",
        "\n",
        "class MyClass:\n",
        "  x = 5"
      ],
      "outputs": [],
      "execution_count": 50,
      "metadata": {},
      "id": "750cd8e2"
    },
    {
      "cell_type": "code",
      "source": [
        "#Create an object \n",
        "p1 = MyClass()\n",
        "print(p1.x)"
      ],
      "outputs": [
        {
          "output_type": "stream",
          "name": "stdout",
          "text": [
            "5\n"
          ]
        }
      ],
      "execution_count": 51,
      "metadata": {},
      "id": "a2cdb905"
    },
    {
      "cell_type": "code",
      "source": [
        "#Create a class named Person, use the __init__() function to assign values for name and age\n",
        "class Person:\n",
        "  def __init__(self, name, age):\n",
        "    self.name = name\n",
        "    self.age = age\n",
        "\n",
        "p1 = Person(\"John\", 36)\n",
        "\n",
        "print(p1.name)\n",
        "print(p1.age)"
      ],
      "outputs": [
        {
          "output_type": "stream",
          "name": "stdout",
          "text": [
            "John\n",
            "36\n"
          ]
        }
      ],
      "execution_count": 52,
      "metadata": {},
      "id": "6675b56d"
    },
    {
      "cell_type": "code",
      "source": [
        "#Defining method\n",
        "class Person:\n",
        "  def __init__(self, name, age):\n",
        "    self.name = name\n",
        "    self.age = age\n",
        "\n",
        "  def myfunc(self):\n",
        "    print(\"Hello my name is \" + self.name)\n",
        "\n",
        "p1 = Person(\"John\", 36)\n",
        "p1.myfunc()"
      ],
      "outputs": [
        {
          "output_type": "stream",
          "name": "stdout",
          "text": [
            "Hello my name is John\n"
          ]
        }
      ],
      "execution_count": 53,
      "metadata": {},
      "id": "609f9bea"
    },
    {
      "cell_type": "code",
      "source": [
        "#Python iterators\n",
        "\n",
        "mytuple = (\"apple\", \"banana\", \"cherry\")\n",
        "myit = iter(mytuple)\n",
        "\n",
        "print(next(myit))\n",
        "print(next(myit))\n",
        "print(next(myit))"
      ],
      "outputs": [
        {
          "output_type": "stream",
          "name": "stdout",
          "text": [
            "apple\n",
            "banana\n",
            "cherry\n"
          ]
        }
      ],
      "execution_count": 54,
      "metadata": {},
      "id": "2bdd502e"
    },
    {
      "cell_type": "code",
      "source": [
        "#Loop through iterators\n",
        "mytuple = (\"apple\", \"banana\", \"cherry\")\n",
        "\n",
        "for x in mytuple:\n",
        "  print(x)"
      ],
      "outputs": [
        {
          "output_type": "stream",
          "name": "stdout",
          "text": [
            "apple\n",
            "banana\n",
            "cherry\n"
          ]
        }
      ],
      "execution_count": 55,
      "metadata": {},
      "id": "71503581"
    },
    {
      "cell_type": "code",
      "source": [
        "#Creating an iterator\n",
        "class MyNumbers:\n",
        "  def __iter__(self):\n",
        "    self.a = 1\n",
        "    return self\n",
        "\n",
        "  def __next__(self):\n",
        "    x = self.a\n",
        "    self.a += 1\n",
        "    return x\n",
        "\n",
        "myclass = MyNumbers()\n",
        "myiter = iter(myclass)\n",
        "\n",
        "print(next(myiter))\n",
        "print(next(myiter))\n",
        "print(next(myiter))"
      ],
      "outputs": [
        {
          "output_type": "stream",
          "name": "stdout",
          "text": [
            "1\n",
            "2\n",
            "3\n"
          ]
        }
      ],
      "execution_count": 56,
      "metadata": {},
      "id": "f9bfbfbf"
    },
    {
      "cell_type": "code",
      "source": [
        "#Python Json \n",
        "\n",
        "import json\n"
      ],
      "outputs": [],
      "execution_count": 57,
      "metadata": {},
      "id": "f097a211"
    },
    {
      "cell_type": "code",
      "source": [
        "import json\n",
        "\n",
        "# some JSON:\n",
        "x =  '{ \"name\":\"John\", \"age\":30, \"city\":\"New York\"}'\n",
        "\n",
        "# parse x:\n",
        "y = json.loads(x)\n",
        "\n",
        "# the result is a Python dictionary:\n",
        "print(y[\"age\"])"
      ],
      "outputs": [
        {
          "output_type": "stream",
          "name": "stdout",
          "text": [
            "30\n"
          ]
        }
      ],
      "execution_count": 58,
      "metadata": {},
      "id": "d436248b"
    },
    {
      "cell_type": "code",
      "source": [
        "#Convert from python object to json \n",
        "\n",
        "import json\n",
        "\n",
        "# a Python object (dict):\n",
        "x = {\n",
        "  \"name\": \"John\",\n",
        "  \"age\": 30,\n",
        "  \"city\": \"New York\"\n",
        "}\n",
        "\n",
        "# convert into JSON:\n",
        "y = json.dumps(x)\n",
        "\n",
        "# the result is a JSON string:\n",
        "print(y)"
      ],
      "outputs": [
        {
          "output_type": "stream",
          "name": "stdout",
          "text": [
            "{\"name\": \"John\", \"age\": 30, \"city\": \"New York\"}\n"
          ]
        }
      ],
      "execution_count": 59,
      "metadata": {},
      "id": "1a941270"
    },
    {
      "cell_type": "code",
      "source": [
        "#Json in different datatypes\n",
        "print(json.dumps({\"name\": \"John\", \"age\": 30}))\n",
        "print(json.dumps([\"apple\", \"bananas\"]))\n",
        "print(json.dumps((\"apple\", \"bananas\")))\n",
        "print(json.dumps(\"hello\"))\n",
        "print(json.dumps(42))\n",
        "print(json.dumps(31.76))\n",
        "print(json.dumps(True))\n",
        "print(json.dumps(False))\n",
        "print(json.dumps(None))"
      ],
      "outputs": [
        {
          "output_type": "stream",
          "name": "stdout",
          "text": [
            "{\"name\": \"John\", \"age\": 30}\n",
            "[\"apple\", \"bananas\"]\n",
            "[\"apple\", \"bananas\"]\n",
            "\"hello\"\n",
            "42\n",
            "31.76\n",
            "true\n",
            "false\n",
            "null\n"
          ]
        }
      ],
      "execution_count": 60,
      "metadata": {},
      "id": "6eb95248"
    },
    {
      "cell_type": "code",
      "source": [
        "import json\n",
        "\n",
        "x = {\n",
        "  \"name\": \"John\",\n",
        "  \"age\": 30,\n",
        "  \"married\": True,\n",
        "  \"divorced\": False,\n",
        "  \"children\": (\"Ann\",\"Billy\"),\n",
        "  \"pets\": None,\n",
        "  \"cars\": [\n",
        "    {\"model\": \"BMW 230\", \"mpg\": 27.5},\n",
        "    {\"model\": \"Ford Edge\", \"mpg\": 24.1}\n",
        "  ]\n",
        "}\n",
        "\n",
        "print(json.dumps(x))"
      ],
      "outputs": [
        {
          "output_type": "stream",
          "name": "stdout",
          "text": [
            "{\"name\": \"John\", \"age\": 30, \"married\": true, \"divorced\": false, \"children\": [\"Ann\", \"Billy\"], \"pets\": null, \"cars\": [{\"model\": \"BMW 230\", \"mpg\": 27.5}, {\"model\": \"Ford Edge\", \"mpg\": 24.1}]}\n"
          ]
        }
      ],
      "execution_count": 61,
      "metadata": {},
      "id": "5996a164"
    },
    {
      "cell_type": "code",
      "source": [
        "#Python regex\n",
        "import re\n"
      ],
      "outputs": [],
      "execution_count": 62,
      "metadata": {},
      "id": "1b9ff55e"
    },
    {
      "cell_type": "code",
      "source": [
        "txt = \"The rain in Spain\"\n",
        "x = re.search(\"^The.*Spain$\", txt)"
      ],
      "outputs": [],
      "execution_count": 63,
      "metadata": {},
      "id": "cbfa3a4a"
    },
    {
      "cell_type": "code",
      "source": [
        "#Do a search to match object\n",
        "txt = \"The rain in Spain\"\n",
        "x = re.findall(\"ai\", txt)\n",
        "print(x)"
      ],
      "outputs": [
        {
          "output_type": "stream",
          "name": "stdout",
          "text": [
            "['ai', 'ai']\n"
          ]
        }
      ],
      "execution_count": 65,
      "metadata": {},
      "id": "e1a8c15f"
    },
    {
      "cell_type": "code",
      "source": [
        "import re\n",
        "\n",
        "txt = \"The rain in Spain\"\n",
        "x = re.search(\"\\s\", txt)\n",
        "\n",
        "print(\"The first white-space character is located in position:\", x.start())"
      ],
      "outputs": [
        {
          "output_type": "stream",
          "name": "stdout",
          "text": [
            "The first white-space character is located in position: 3\n"
          ]
        }
      ],
      "execution_count": 66,
      "metadata": {},
      "id": "bec813be"
    },
    {
      "cell_type": "code",
      "source": [
        "#The sub() function replaces the matches with the text of your choice:\n",
        "\n",
        "txt = \"The rain in Spain\"\n",
        "x = re.sub(\"\\s\", \"9\", txt)\n",
        "print(x)"
      ],
      "outputs": [],
      "execution_count": null,
      "metadata": {},
      "id": "ed7d3bfa"
    },
    {
      "cell_type": "code",
      "source": [
        "#EXception handling"
      ],
      "outputs": [],
      "execution_count": null,
      "metadata": {},
      "id": "68bb276f"
    },
    {
      "cell_type": "code",
      "source": [
        "try:\n",
        "  print(\"Hello\")\n",
        "except:\n",
        "  print(\"Something went wrong\")\n",
        "else:\n",
        "  print(\"Nothing went wrong\")"
      ],
      "outputs": [
        {
          "output_type": "stream",
          "name": "stdout",
          "text": [
            "Hello\n",
            "Nothing went wrong\n"
          ]
        }
      ],
      "execution_count": 69,
      "metadata": {},
      "id": "fd016fe0"
    },
    {
      "cell_type": "code",
      "source": [
        "try:\n",
        "  print(x)\n",
        "except:\n",
        "  print(\"Something went wrong\")\n",
        "finally:\n",
        "  print(\"The 'try except' is finished\")"
      ],
      "outputs": [
        {
          "output_type": "stream",
          "name": "stdout",
          "text": [
            "<re.Match object; span=(3, 4), match=' '>\n",
            "The 'try except' is finished\n"
          ]
        }
      ],
      "execution_count": 71,
      "metadata": {},
      "id": "5c62dc46"
    },
    {
      "cell_type": "code",
      "source": [
        "try:\n",
        "  f = open(\"demofile.txt\")\n",
        "  try:\n",
        "    f.write(\"Lorum Ipsum\")\n",
        "  except:\n",
        "    print(\"Something went wrong when writing to the file\")\n",
        "  finally:\n",
        "    f.close()\n",
        "except:\n",
        "  print(\"Something went wrong when opening the file\")"
      ],
      "outputs": [
        {
          "output_type": "stream",
          "name": "stdout",
          "text": [
            "Something went wrong when opening the file\n"
          ]
        }
      ],
      "execution_count": 72,
      "metadata": {},
      "id": "beca853e"
    },
    {
      "cell_type": "code",
      "source": [
        "#Raise exception\n",
        "x = -1\n",
        "\n",
        "if x < 0:\n",
        "  raise Exception(\"Sorry, no numbers below zero\")"
      ],
      "outputs": [
        {
          "output_type": "error",
          "ename": "Exception",
          "evalue": "Sorry, no numbers below zero",
          "traceback": [
            "\u001b[1;31m---------------------------------------------------------------------------\u001b[0m",
            "\u001b[1;31mException\u001b[0m                                 Traceback (most recent call last)",
            "Input \u001b[1;32mIn [73]\u001b[0m, in \u001b[0;36m<cell line: 3>\u001b[1;34m()\u001b[0m\n\u001b[0;32m      1\u001b[0m x \u001b[38;5;241m=\u001b[39m \u001b[38;5;241m-\u001b[39m\u001b[38;5;241m1\u001b[39m\n\u001b[0;32m      3\u001b[0m \u001b[38;5;28;01mif\u001b[39;00m x \u001b[38;5;241m<\u001b[39m \u001b[38;5;241m0\u001b[39m:\n\u001b[1;32m----> 4\u001b[0m   \u001b[38;5;28;01mraise\u001b[39;00m \u001b[38;5;167;01mException\u001b[39;00m(\u001b[38;5;124m\"\u001b[39m\u001b[38;5;124mSorry, no numbers below zero\u001b[39m\u001b[38;5;124m\"\u001b[39m)\n",
            "\u001b[1;31mException\u001b[0m: Sorry, no numbers below zero"
          ]
        }
      ],
      "execution_count": 73,
      "metadata": {},
      "id": "567e2513"
    },
    {
      "cell_type": "code",
      "source": [
        "x = \"hello\"\n",
        "\n",
        "if not type(x) is int:\n",
        "  raise TypeError(\"Only integers are allowed\")"
      ],
      "outputs": [
        {
          "output_type": "error",
          "ename": "TypeError",
          "evalue": "Only integers are allowed",
          "traceback": [
            "\u001b[1;31m---------------------------------------------------------------------------\u001b[0m",
            "\u001b[1;31mTypeError\u001b[0m                                 Traceback (most recent call last)",
            "Input \u001b[1;32mIn [74]\u001b[0m, in \u001b[0;36m<cell line: 3>\u001b[1;34m()\u001b[0m\n\u001b[0;32m      1\u001b[0m x \u001b[38;5;241m=\u001b[39m \u001b[38;5;124m\"\u001b[39m\u001b[38;5;124mhello\u001b[39m\u001b[38;5;124m\"\u001b[39m\n\u001b[0;32m      3\u001b[0m \u001b[38;5;28;01mif\u001b[39;00m \u001b[38;5;129;01mnot\u001b[39;00m \u001b[38;5;28mtype\u001b[39m(x) \u001b[38;5;129;01mis\u001b[39;00m \u001b[38;5;28mint\u001b[39m:\n\u001b[1;32m----> 4\u001b[0m   \u001b[38;5;28;01mraise\u001b[39;00m \u001b[38;5;167;01mTypeError\u001b[39;00m(\u001b[38;5;124m\"\u001b[39m\u001b[38;5;124mOnly integers are allowed\u001b[39m\u001b[38;5;124m\"\u001b[39m)\n",
            "\u001b[1;31mTypeError\u001b[0m: Only integers are allowed"
          ]
        }
      ],
      "execution_count": 74,
      "metadata": {},
      "id": "bd64d394"
    },
    {
      "cell_type": "code",
      "source": [],
      "outputs": [],
      "execution_count": null,
      "metadata": {},
      "id": "7c15bff9"
    }
  ],
  "metadata": {
    "kernelspec": {
      "display_name": "Python 3 (ipykernel)",
      "language": "python",
      "name": "python3"
    },
    "language_info": {
      "codemirror_mode": {
        "name": "ipython",
        "version": 3
      },
      "file_extension": ".py",
      "mimetype": "text/x-python",
      "name": "python",
      "nbconvert_exporter": "python",
      "pygments_lexer": "ipython3",
      "version": "3.9.12"
    },
    "nteract": {
      "version": "0.28.0"
    }
  },
  "nbformat": 4,
  "nbformat_minor": 5
}